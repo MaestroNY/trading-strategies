{
 "cells": [
  {
   "cell_type": "code",
   "execution_count": null,
   "id": "d1f8b9bb",
   "metadata": {},
   "outputs": [],
   "source": [
    "\"\"\"Тестирование проводим за период с 18.12.2012 по 29.04.2022, \n",
    "т.к. с сайта Мосбиржи доступна подробная статистика для этого периода.\n",
    "Можно сделать с 04.03.2011, но нет инф-ции по капитализации для тестирования фактора Size,\n",
    "поэтому будут только Momentum, Low volatility и High dividends\"\"\""
   ]
  },
  {
   "cell_type": "code",
   "execution_count": null,
   "id": "99c34ad8",
   "metadata": {},
   "outputs": [],
   "source": [
    "# Добавить комиссии за ребалансировку!"
   ]
  },
  {
   "cell_type": "code",
   "execution_count": 138,
   "id": "aba7d4e0",
   "metadata": {},
   "outputs": [],
   "source": [
    "import pandas as pd\n",
    "import numpy as np\n",
    "from datetime import datetime\n",
    "from datetime import timedelta"
   ]
  },
  {
   "cell_type": "code",
   "execution_count": 257,
   "id": "8864549a",
   "metadata": {},
   "outputs": [],
   "source": [
    "# Дата начала бэктеста\n",
    "first_date = pd.to_datetime('18.12.2012')"
   ]
  },
  {
   "cell_type": "code",
   "execution_count": 258,
   "id": "f8f877c7",
   "metadata": {},
   "outputs": [],
   "source": [
    "rebalancing = pd.read_excel('moex - assets.xlsx', sheet_name='динамика для бэктеста', header=1)"
   ]
  },
  {
   "cell_type": "code",
   "execution_count": 259,
   "id": "f432a7c7",
   "metadata": {},
   "outputs": [],
   "source": [
    "price = pd.read_excel('moex - assets.xlsx', sheet_name='цены', index_col=0).iloc[1:]"
   ]
  },
  {
   "cell_type": "code",
   "execution_count": 260,
   "id": "46404117",
   "metadata": {},
   "outputs": [],
   "source": [
    "dividends = pd.read_excel('moex - assets.xlsx', sheet_name='дивиденды').iloc[:, 1:]"
   ]
  },
  {
   "cell_type": "code",
   "execution_count": 261,
   "id": "2114f209",
   "metadata": {},
   "outputs": [],
   "source": [
    "Nshares = pd.read_excel('moex - assets.xlsx', sheet_name='количество акций', index_col=0)"
   ]
  },
  {
   "cell_type": "code",
   "execution_count": 262,
   "id": "c0c37d46",
   "metadata": {},
   "outputs": [],
   "source": [
    "# Оставим информацию о ребалансировке от указанной start_date\n",
    "rebalancing = rebalancing[rebalancing.columns[(rebalancing.columns >= first_date).tolist()]]"
   ]
  },
  {
   "cell_type": "code",
   "execution_count": 263,
   "id": "2eb1fb42",
   "metadata": {},
   "outputs": [],
   "source": [
    "# Добавим в цену дивиденды\n"
   ]
  },
  {
   "cell_type": "code",
   "execution_count": 264,
   "id": "a43d965a",
   "metadata": {},
   "outputs": [],
   "source": [
    "ticker = 'AFKS'"
   ]
  },
  {
   "cell_type": "code",
   "execution_count": 265,
   "id": "f865aeeb",
   "metadata": {},
   "outputs": [
    {
     "data": {
      "text/plain": [
       "'AFKS'"
      ]
     },
     "execution_count": 265,
     "metadata": {},
     "output_type": "execute_result"
    }
   ],
   "source": [
    "ticker"
   ]
  },
  {
   "cell_type": "code",
   "execution_count": 266,
   "id": "a4f2b66b",
   "metadata": {},
   "outputs": [],
   "source": [
    "divs = dividends[['Date ' + ticker, 'Divs ' + ticker]]"
   ]
  },
  {
   "cell_type": "code",
   "execution_count": 267,
   "id": "3f8d2332",
   "metadata": {},
   "outputs": [
    {
     "data": {
      "text/html": [
       "<div>\n",
       "<style scoped>\n",
       "    .dataframe tbody tr th:only-of-type {\n",
       "        vertical-align: middle;\n",
       "    }\n",
       "\n",
       "    .dataframe tbody tr th {\n",
       "        vertical-align: top;\n",
       "    }\n",
       "\n",
       "    .dataframe thead th {\n",
       "        text-align: right;\n",
       "    }\n",
       "</style>\n",
       "<table border=\"1\" class=\"dataframe\">\n",
       "  <thead>\n",
       "    <tr style=\"text-align: right;\">\n",
       "      <th></th>\n",
       "      <th>Date AFKS</th>\n",
       "      <th>Divs AFKS</th>\n",
       "    </tr>\n",
       "  </thead>\n",
       "  <tbody>\n",
       "    <tr>\n",
       "      <th>0</th>\n",
       "      <td>2021-07-14</td>\n",
       "      <td>0.310</td>\n",
       "    </tr>\n",
       "    <tr>\n",
       "      <th>1</th>\n",
       "      <td>2020-07-15</td>\n",
       "      <td>0.130</td>\n",
       "    </tr>\n",
       "    <tr>\n",
       "      <th>2</th>\n",
       "      <td>2019-07-17</td>\n",
       "      <td>0.110</td>\n",
       "    </tr>\n",
       "    <tr>\n",
       "      <th>3</th>\n",
       "      <td>2018-07-18</td>\n",
       "      <td>0.110</td>\n",
       "    </tr>\n",
       "    <tr>\n",
       "      <th>4</th>\n",
       "      <td>2017-12-07</td>\n",
       "      <td>0.680</td>\n",
       "    </tr>\n",
       "    <tr>\n",
       "      <th>5</th>\n",
       "      <td>2017-07-12</td>\n",
       "      <td>0.810</td>\n",
       "    </tr>\n",
       "    <tr>\n",
       "      <th>6</th>\n",
       "      <td>2016-10-06</td>\n",
       "      <td>0.380</td>\n",
       "    </tr>\n",
       "    <tr>\n",
       "      <th>7</th>\n",
       "      <td>2016-07-13</td>\n",
       "      <td>0.670</td>\n",
       "    </tr>\n",
       "    <tr>\n",
       "      <th>8</th>\n",
       "      <td>2015-07-15</td>\n",
       "      <td>0.470</td>\n",
       "    </tr>\n",
       "    <tr>\n",
       "      <th>9</th>\n",
       "      <td>2014-07-16</td>\n",
       "      <td>2.060</td>\n",
       "    </tr>\n",
       "    <tr>\n",
       "      <th>10</th>\n",
       "      <td>2013-05-21</td>\n",
       "      <td>0.960</td>\n",
       "    </tr>\n",
       "    <tr>\n",
       "      <th>11</th>\n",
       "      <td>2012-05-18</td>\n",
       "      <td>0.280</td>\n",
       "    </tr>\n",
       "    <tr>\n",
       "      <th>12</th>\n",
       "      <td>2011-05-17</td>\n",
       "      <td>0.260</td>\n",
       "    </tr>\n",
       "    <tr>\n",
       "      <th>13</th>\n",
       "      <td>2010-05-13</td>\n",
       "      <td>0.055</td>\n",
       "    </tr>\n",
       "    <tr>\n",
       "      <th>14</th>\n",
       "      <td>NaT</td>\n",
       "      <td>NaN</td>\n",
       "    </tr>\n",
       "    <tr>\n",
       "      <th>15</th>\n",
       "      <td>NaT</td>\n",
       "      <td>NaN</td>\n",
       "    </tr>\n",
       "    <tr>\n",
       "      <th>16</th>\n",
       "      <td>NaT</td>\n",
       "      <td>NaN</td>\n",
       "    </tr>\n",
       "    <tr>\n",
       "      <th>17</th>\n",
       "      <td>NaT</td>\n",
       "      <td>NaN</td>\n",
       "    </tr>\n",
       "    <tr>\n",
       "      <th>18</th>\n",
       "      <td>NaT</td>\n",
       "      <td>NaN</td>\n",
       "    </tr>\n",
       "    <tr>\n",
       "      <th>19</th>\n",
       "      <td>NaT</td>\n",
       "      <td>NaN</td>\n",
       "    </tr>\n",
       "    <tr>\n",
       "      <th>20</th>\n",
       "      <td>NaT</td>\n",
       "      <td>NaN</td>\n",
       "    </tr>\n",
       "    <tr>\n",
       "      <th>21</th>\n",
       "      <td>NaT</td>\n",
       "      <td>NaN</td>\n",
       "    </tr>\n",
       "    <tr>\n",
       "      <th>22</th>\n",
       "      <td>NaT</td>\n",
       "      <td>NaN</td>\n",
       "    </tr>\n",
       "    <tr>\n",
       "      <th>23</th>\n",
       "      <td>NaT</td>\n",
       "      <td>NaN</td>\n",
       "    </tr>\n",
       "    <tr>\n",
       "      <th>24</th>\n",
       "      <td>NaT</td>\n",
       "      <td>NaN</td>\n",
       "    </tr>\n",
       "    <tr>\n",
       "      <th>25</th>\n",
       "      <td>NaT</td>\n",
       "      <td>NaN</td>\n",
       "    </tr>\n",
       "    <tr>\n",
       "      <th>26</th>\n",
       "      <td>NaT</td>\n",
       "      <td>NaN</td>\n",
       "    </tr>\n",
       "    <tr>\n",
       "      <th>27</th>\n",
       "      <td>NaT</td>\n",
       "      <td>NaN</td>\n",
       "    </tr>\n",
       "    <tr>\n",
       "      <th>28</th>\n",
       "      <td>NaT</td>\n",
       "      <td>NaN</td>\n",
       "    </tr>\n",
       "    <tr>\n",
       "      <th>29</th>\n",
       "      <td>NaT</td>\n",
       "      <td>NaN</td>\n",
       "    </tr>\n",
       "    <tr>\n",
       "      <th>30</th>\n",
       "      <td>NaT</td>\n",
       "      <td>NaN</td>\n",
       "    </tr>\n",
       "    <tr>\n",
       "      <th>31</th>\n",
       "      <td>NaT</td>\n",
       "      <td>NaN</td>\n",
       "    </tr>\n",
       "    <tr>\n",
       "      <th>32</th>\n",
       "      <td>NaT</td>\n",
       "      <td>NaN</td>\n",
       "    </tr>\n",
       "    <tr>\n",
       "      <th>33</th>\n",
       "      <td>NaT</td>\n",
       "      <td>NaN</td>\n",
       "    </tr>\n",
       "    <tr>\n",
       "      <th>34</th>\n",
       "      <td>NaT</td>\n",
       "      <td>NaN</td>\n",
       "    </tr>\n",
       "    <tr>\n",
       "      <th>35</th>\n",
       "      <td>NaT</td>\n",
       "      <td>NaN</td>\n",
       "    </tr>\n",
       "    <tr>\n",
       "      <th>36</th>\n",
       "      <td>NaT</td>\n",
       "      <td>NaN</td>\n",
       "    </tr>\n",
       "    <tr>\n",
       "      <th>37</th>\n",
       "      <td>NaT</td>\n",
       "      <td>NaN</td>\n",
       "    </tr>\n",
       "    <tr>\n",
       "      <th>38</th>\n",
       "      <td>NaT</td>\n",
       "      <td>NaN</td>\n",
       "    </tr>\n",
       "    <tr>\n",
       "      <th>39</th>\n",
       "      <td>NaT</td>\n",
       "      <td>NaN</td>\n",
       "    </tr>\n",
       "    <tr>\n",
       "      <th>40</th>\n",
       "      <td>NaT</td>\n",
       "      <td>NaN</td>\n",
       "    </tr>\n",
       "    <tr>\n",
       "      <th>41</th>\n",
       "      <td>NaT</td>\n",
       "      <td>NaN</td>\n",
       "    </tr>\n",
       "    <tr>\n",
       "      <th>42</th>\n",
       "      <td>NaT</td>\n",
       "      <td>NaN</td>\n",
       "    </tr>\n",
       "    <tr>\n",
       "      <th>43</th>\n",
       "      <td>NaT</td>\n",
       "      <td>NaN</td>\n",
       "    </tr>\n",
       "    <tr>\n",
       "      <th>44</th>\n",
       "      <td>NaT</td>\n",
       "      <td>NaN</td>\n",
       "    </tr>\n",
       "  </tbody>\n",
       "</table>\n",
       "</div>"
      ],
      "text/plain": [
       "    Date AFKS  Divs AFKS\n",
       "0  2021-07-14      0.310\n",
       "1  2020-07-15      0.130\n",
       "2  2019-07-17      0.110\n",
       "3  2018-07-18      0.110\n",
       "4  2017-12-07      0.680\n",
       "5  2017-07-12      0.810\n",
       "6  2016-10-06      0.380\n",
       "7  2016-07-13      0.670\n",
       "8  2015-07-15      0.470\n",
       "9  2014-07-16      2.060\n",
       "10 2013-05-21      0.960\n",
       "11 2012-05-18      0.280\n",
       "12 2011-05-17      0.260\n",
       "13 2010-05-13      0.055\n",
       "14        NaT        NaN\n",
       "15        NaT        NaN\n",
       "16        NaT        NaN\n",
       "17        NaT        NaN\n",
       "18        NaT        NaN\n",
       "19        NaT        NaN\n",
       "20        NaT        NaN\n",
       "21        NaT        NaN\n",
       "22        NaT        NaN\n",
       "23        NaT        NaN\n",
       "24        NaT        NaN\n",
       "25        NaT        NaN\n",
       "26        NaT        NaN\n",
       "27        NaT        NaN\n",
       "28        NaT        NaN\n",
       "29        NaT        NaN\n",
       "30        NaT        NaN\n",
       "31        NaT        NaN\n",
       "32        NaT        NaN\n",
       "33        NaT        NaN\n",
       "34        NaT        NaN\n",
       "35        NaT        NaN\n",
       "36        NaT        NaN\n",
       "37        NaT        NaN\n",
       "38        NaT        NaN\n",
       "39        NaT        NaN\n",
       "40        NaT        NaN\n",
       "41        NaT        NaN\n",
       "42        NaT        NaN\n",
       "43        NaT        NaN\n",
       "44        NaT        NaN"
      ]
     },
     "execution_count": 267,
     "metadata": {},
     "output_type": "execute_result"
    }
   ],
   "source": [
    "divs"
   ]
  },
  {
   "cell_type": "code",
   "execution_count": 268,
   "id": "9c9f4ef0",
   "metadata": {},
   "outputs": [],
   "source": [
    "i = 0\n",
    "div_date = divs.iloc[i, 0]\n",
    "div = divs.iloc[i, 1]\n",
    "price_path = price[ticker].copy()"
   ]
  },
  {
   "cell_type": "code",
   "execution_count": 152,
   "id": "32da8628",
   "metadata": {},
   "outputs": [
    {
     "data": {
      "text/plain": [
       "['\"!\" \\xadҐ пў«пҐвбп ў\\xadгваҐ\\xad\\xadҐ© Ё«Ё ў\\xadҐи\\xadҐ©',\n",
       " 'Є®¬\\xa0\\xad¤®©, ЁбЇ®«\\xadпҐ¬®© Їа®Ја\\xa0¬¬®© Ё«Ё Ї\\xa0ЄҐв\\xadл¬ д\\xa0©«®¬.']"
      ]
     },
     "execution_count": 152,
     "metadata": {},
     "output_type": "execute_result"
    }
   ],
   "source": [
    "!!!"
   ]
  },
  {
   "cell_type": "code",
   "execution_count": null,
   "id": "20519a4d",
   "metadata": {},
   "outputs": [],
   "source": []
  },
  {
   "cell_type": "code",
   "execution_count": 218,
   "id": "a2182d45",
   "metadata": {},
   "outputs": [],
   "source": [
    "# Функция переносит неторгуемый день ранее на первый торгуемый день\n",
    "def trading_date(path, date):\n",
    "    quote = path[path.index == date].iloc[0]\n",
    "    date = date - timedelta(1)\n",
    "    quote_prev = path[path.index == path.index == date].iloc[0]\n",
    "    while quote_prev == quote:\n",
    "        date = date - timedelta(1)\n",
    "        quote = path[path.index == date].iloc[0]\n",
    "        quote_prev = path[path.index == (date - timedelta(1))].iloc[0]\n",
    "        \n",
    "    return(date)\n"
   ]
  },
  {
   "cell_type": "code",
   "execution_count": 219,
   "id": "073eb59e",
   "metadata": {},
   "outputs": [
    {
     "data": {
      "text/plain": [
       "Timestamp('2021-07-14 00:00:00')"
      ]
     },
     "execution_count": 219,
     "metadata": {},
     "output_type": "execute_result"
    }
   ],
   "source": [
    "trading_date0 = trading_date(price_path, div_date)\n",
    "trading_date1 = trading_date(price_path, trading_date0 - timedelta(1))"
   ]
  },
  {
   "cell_type": "code",
   "execution_count": 269,
   "id": "1f802e94",
   "metadata": {},
   "outputs": [
    {
     "data": {
      "text/plain": [
       "Дата\n",
       "2011-01-02     0.000\n",
       "2011-01-03     0.000\n",
       "2011-01-04     0.000\n",
       "2011-01-05     0.000\n",
       "2011-01-06     0.000\n",
       "               ...  \n",
       "2022-04-25    12.300\n",
       "2022-04-26    12.598\n",
       "2022-04-27    12.587\n",
       "2022-04-28    12.500\n",
       "2022-04-29    12.909\n",
       "Name: AFKS, Length: 4136, dtype: float64"
      ]
     },
     "execution_count": 269,
     "metadata": {},
     "output_type": "execute_result"
    }
   ],
   "source": [
    "price_path"
   ]
  },
  {
   "cell_type": "code",
   "execution_count": null,
   "id": "03035eb2",
   "metadata": {},
   "outputs": [],
   "source": []
  },
  {
   "cell_type": "code",
   "execution_count": null,
   "id": "6fa1cacc",
   "metadata": {},
   "outputs": [],
   "source": []
  },
  {
   "cell_type": "code",
   "execution_count": null,
   "id": "cf1ebdd3",
   "metadata": {},
   "outputs": [],
   "source": []
  },
  {
   "cell_type": "code",
   "execution_count": null,
   "id": "c73cb974",
   "metadata": {},
   "outputs": [],
   "source": []
  },
  {
   "cell_type": "code",
   "execution_count": null,
   "id": "2aa067c3",
   "metadata": {},
   "outputs": [],
   "source": [
    "# В самом начале проверить, ечть ли значения в столбце, потом уже применять функцию"
   ]
  },
  {
   "cell_type": "code",
   "execution_count": null,
   "id": "8b6a087a",
   "metadata": {},
   "outputs": [],
   "source": [
    "!!!"
   ]
  },
  {
   "cell_type": "code",
   "execution_count": null,
   "id": "35b8f691",
   "metadata": {},
   "outputs": [],
   "source": []
  },
  {
   "cell_type": "code",
   "execution_count": null,
   "id": "c4b6da4b",
   "metadata": {},
   "outputs": [],
   "source": []
  },
  {
   "cell_type": "code",
   "execution_count": null,
   "id": "83a0639a",
   "metadata": {},
   "outputs": [],
   "source": []
  },
  {
   "cell_type": "code",
   "execution_count": null,
   "id": "7472bfb4",
   "metadata": {},
   "outputs": [],
   "source": []
  },
  {
   "cell_type": "code",
   "execution_count": null,
   "id": "35a70a39",
   "metadata": {},
   "outputs": [],
   "source": []
  },
  {
   "cell_type": "code",
   "execution_count": null,
   "id": "3d48bda9",
   "metadata": {},
   "outputs": [],
   "source": []
  },
  {
   "cell_type": "code",
   "execution_count": null,
   "id": "9aedcf4a",
   "metadata": {},
   "outputs": [],
   "source": []
  },
  {
   "cell_type": "code",
   "execution_count": null,
   "id": "c246bb35",
   "metadata": {},
   "outputs": [],
   "source": []
  },
  {
   "cell_type": "code",
   "execution_count": null,
   "id": "bca0a920",
   "metadata": {},
   "outputs": [],
   "source": []
  },
  {
   "cell_type": "code",
   "execution_count": null,
   "id": "282cb63f",
   "metadata": {},
   "outputs": [],
   "source": []
  }
 ],
 "metadata": {
  "kernelspec": {
   "display_name": "Python 3",
   "language": "python",
   "name": "python3"
  },
  "language_info": {
   "codemirror_mode": {
    "name": "ipython",
    "version": 3
   },
   "file_extension": ".py",
   "mimetype": "text/x-python",
   "name": "python",
   "nbconvert_exporter": "python",
   "pygments_lexer": "ipython3",
   "version": "3.8.8"
  }
 },
 "nbformat": 4,
 "nbformat_minor": 5
}
