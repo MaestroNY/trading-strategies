{
 "cells": [
  {
   "cell_type": "code",
   "execution_count": null,
   "id": "d1f8b9bb",
   "metadata": {},
   "outputs": [],
   "source": [
    "\"\"\"Тестирование проводим за период с 18.12.2012 по 29.04.2022, \n",
    "т.к. с сайта Мосбиржи доступна подробная статистика по ребалансировкам для этого периода.\n",
    "Можно сделать с 04.03.2011, но нет инф-ции по капитализации для тестирования фактора Size,\n",
    "поэтому будут только Momentum, Low volatility и High dividends\"\"\""
   ]
  },
  {
   "cell_type": "markdown",
   "id": "30b50909",
   "metadata": {},
   "source": [
    "***Создание свода о ребалансировках наших индексов + цены с дивидендами***"
   ]
  },
  {
   "cell_type": "code",
   "execution_count": null,
   "id": "99c34ad8",
   "metadata": {},
   "outputs": [],
   "source": [
    "# Добавить комиссии за ребалансировку!"
   ]
  },
  {
   "cell_type": "code",
   "execution_count": 849,
   "id": "aba7d4e0",
   "metadata": {},
   "outputs": [],
   "source": [
    "import pandas as pd\n",
    "import numpy as np\n",
    "from datetime import datetime\n",
    "from datetime import timedelta\n",
    "import math"
   ]
  },
  {
   "cell_type": "code",
   "execution_count": 850,
   "id": "f8f877c7",
   "metadata": {},
   "outputs": [],
   "source": [
    "rebalancing = pd.read_excel('moex - assets.xlsx', sheet_name='динамика для бэктеста', header=1)\n",
    "price = pd.read_excel('moex - assets.xlsx', sheet_name='цены', index_col=0).iloc[1:]\n",
    "price = price.fillna(0)\n",
    "dividends = pd.read_excel('moex - assets.xlsx', sheet_name='дивиденды').iloc[:, 1:]\n",
    "Nshares = pd.read_excel('moex - assets.xlsx', sheet_name='количество акций', index_col=0)"
   ]
  },
  {
   "cell_type": "code",
   "execution_count": 851,
   "id": "192fbabb",
   "metadata": {},
   "outputs": [],
   "source": [
    "# Функция берет столбец с ценами и возвращает столбец с изменениями цен без учета неторгуемых дней\n",
    "def price_to_changes(price_path, log):\n",
    "    price_path_f = price_path.copy()\n",
    "    price_path_f = price_path_f[price_path_f != 0]\n",
    "    if log == False:\n",
    "        price_changes = price_path_f / price_path_f.shift(1) - 1\n",
    "    else:\n",
    "        price_changes = (price_path_f / price_path_f.shift(1)).apply(lambda x: math.log(x))\n",
    "    price_changes = price_changes.dropna()\n",
    "    price_changes = price_changes[price_changes != 0]\n",
    "    \n",
    "    return(price_changes)"
   ]
  },
  {
   "cell_type": "code",
   "execution_count": 852,
   "id": "c068a4fa",
   "metadata": {},
   "outputs": [],
   "source": [
    "# Функция берет дивидендную дату и, если дивиденд есть и ГЭП попадает в динамику цен, то находит примерную дату, когда был дивидендный ГЭП\n",
    "def div_date_to_gap_date(div, div_date, price_changes):\n",
    "    if not(np.isnan(div)):\n",
    "        if (div_date >= price_changes.index[2]) and (div_date <= price_changes.index[-1]):\n",
    "            div_date = price_changes[price_changes.index <= div_date].index[-1]\n",
    "            possible_gap = price_changes[price_changes.index <= div_date][-3:]\n",
    "            div_gap_date = possible_gap[possible_gap == possible_gap.min()].index[0]\n",
    "        else:\n",
    "            div_gap_date = 'За рамками динамики'\n",
    "    else:\n",
    "        div_gap_date = 'Нет дивиденда'\n",
    "        \n",
    "    return(div_gap_date)"
   ]
  },
  {
   "cell_type": "code",
   "execution_count": 853,
   "id": "fc006691",
   "metadata": {},
   "outputs": [],
   "source": [
    "# Функция добавляет в словарь параметры Моментума с указанным окном\n",
    "# 'Недостаточная история торгов' - если не хватает истории котировок как минимум на половину окна моментума\n",
    "\n",
    "def momentum_calc(selection, price, window):\n",
    "    selection_f = selection.copy()\n",
    "    window = 365 // 12 * window\n",
    "    for date in selection_f.keys():\n",
    "        param_calc = []\n",
    "\n",
    "        for ticker in selection_f[date]['Актив']:\n",
    "            dynamics = price[ticker]\n",
    "            dynamics = dynamics[dynamics.index < date]\n",
    "            dynamics = dynamics[dynamics.index > date - timedelta(window)]\n",
    "            dynamics = dynamics[dynamics != 0]\n",
    "            dif = (date - dynamics.index[0]).days\n",
    "\n",
    "            if dif < window // 2:\n",
    "                param_calc.append('Недостаточная история торгов')\n",
    "            else:\n",
    "                change = dynamics[-1] / dynamics[0] - 1\n",
    "                param_calc.append(change)\n",
    "\n",
    "        selection_f[date]['Momentum_' + str(int(12 / (365 // window))) + \"M\"] = param_calc\n",
    "    \n",
    "    return(selection_f)"
   ]
  },
  {
   "cell_type": "code",
   "execution_count": 854,
   "id": "12ad373a",
   "metadata": {},
   "outputs": [],
   "source": [
    "# Функция добавляет в словарь параметры Volatility с указанным окном\n",
    "# 'Недостаточная история торгов' - если не хватает истории котировок как минимум на половину окна Volatility\n",
    "\n",
    "def volatility_calc(selection, price, window):\n",
    "    selection_f = selection.copy()\n",
    "    window = 365 // 12 * window\n",
    "    for date in selection_f.keys():\n",
    "        param_calc = []\n",
    "\n",
    "        for ticker in selection_f[date]['Актив']:\n",
    "            dynamics = price[ticker]\n",
    "            dynamics = dynamics[dynamics.index < date]\n",
    "            dynamics = dynamics[dynamics.index > date - timedelta(window)]\n",
    "            dynamics = dynamics[dynamics != 0]\n",
    "            dif = (date - dynamics.index[0]).days\n",
    "\n",
    "            if dif < window // 2:\n",
    "                param_calc.append('Недостаточная история торгов')\n",
    "            else:\n",
    "                change = price_to_changes(dynamics, log=True)\n",
    "                vol = change.std() \n",
    "                param_calc.append(vol)\n",
    "\n",
    "        selection_f[date]['Volatility_' + str(int(12 / (365 // window))) + \"M\"] = param_calc\n",
    "    \n",
    "    return(selection_f)"
   ]
  },
  {
   "cell_type": "code",
   "execution_count": 855,
   "id": "633a4345",
   "metadata": {},
   "outputs": [],
   "source": [
    "# Size - на момент балансировки: цена акции * кол-во акций\n",
    "def size_calc(selection, price, Nshares):   \n",
    "    selection_f = selection.copy()\n",
    "\n",
    "    for date in selection_f.keys():\n",
    "        param_calc = []\n",
    "        for ticker in selection_f[date]['Актив']:\n",
    "            number_shares = Nshares[Nshares.index <= date].iloc[-1][ticker]\n",
    "            quote = price[price.index < date].iloc[-1][ticker]\n",
    "            size = number_shares * quote\n",
    "            param_calc.append(size)\n",
    "\n",
    "        selection_f[date]['Size'] = param_calc\n",
    "    \n",
    "    return(selection_f)"
   ]
  },
  {
   "cell_type": "code",
   "execution_count": 856,
   "id": "3b67065e",
   "metadata": {},
   "outputs": [],
   "source": [
    "# див. доходность считаем как сумма дивидендов за предыдущие 12 месяцев / цена акций на дату формирования реестра\n",
    "def div_return_calc(selection, price, dividends):    \n",
    "    selection_f = selection.copy()\n",
    "\n",
    "    for date in selection_f.keys():\n",
    "        date_year_ago = date - timedelta(365)\n",
    "        param_calc = []\n",
    "        for ticker in selection_f[date]['Актив']:\n",
    "            try:\n",
    "                divs_frame = dividends[(dividends['Date ' + ticker] < date) & (dividends['Date ' + ticker] > date_year_ago)]\\\n",
    "                                                 [['Date ' + ticker, 'Divs ' + ticker]].reset_index(drop=True)\n",
    "\n",
    "                div_return = 0\n",
    "                for d in range(len(divs_frame)):\n",
    "                    div_date = divs_frame.iloc[d, 0]\n",
    "                    div_value = divs_frame.iloc[d, 1]\n",
    "                    stock_price = price[price.index == div_date][ticker].iloc[0]\n",
    "                    if not np.isnan(stock_price) and stock_price != 0:\n",
    "                        div_return += div_value / stock_price    \n",
    "                param_calc.append(div_return)\n",
    "            except:\n",
    "                param_calc.append(0)\n",
    "            \n",
    "        selection_f[date]['Dividends'] = param_calc\n",
    "        \n",
    "    return(selection_f)"
   ]
  },
  {
   "cell_type": "code",
   "execution_count": 857,
   "id": "9c9f4ef0",
   "metadata": {},
   "outputs": [],
   "source": [
    "# Добавим в цену дивиденды. Все тикеры из таблицы с ценами должны быть в таблице с дивидендами, иначе выдаст ошибку.\n",
    "\n",
    "price_first = price.copy()\n",
    "tax = 0.13\n",
    "\n",
    "tickers = price.columns.tolist()\n",
    "for ticker in tickers:\n",
    "    divs = dividends[['Date ' + ticker, 'Divs ' + ticker]]\n",
    "    price_path = price[ticker].copy()\n",
    "    price_changes = price_to_changes(price_path, log=False)\n",
    "    for i in range(len(divs)):\n",
    "        div_date = divs.iloc[i, 0]\n",
    "        div = divs.iloc[i, 1]\n",
    "        div_gap_date = div_date_to_gap_date(div, div_date, price_changes)\n",
    "        if div_gap_date == 'Нет дивиденда':\n",
    "            break\n",
    "        if div_gap_date == 'За рамками динамики':\n",
    "            continue\n",
    "        else:\n",
    "            price_value = price_path[(price_path.index >= div_gap_date) & (price_path != 0)][0]\n",
    "            price_path[(price_path.index >= div_gap_date) & (price_path != 0)] *= (div * (1 - tax) / price_value + 1)\n",
    "    price[ticker] = price_path"
   ]
  },
  {
   "cell_type": "code",
   "execution_count": 858,
   "id": "dc5de9bd",
   "metadata": {},
   "outputs": [],
   "source": [
    "# Частота ребалансировки (в месяцах)\n",
    "freq = 3\n",
    "freq_days = freq * 30\n",
    "# Указываем окно для бэктеста (динамика)\n",
    "# start_date должна быть на год больше, чем минимальная дата в котировках (для подсчета дивидендов за год)\n",
    "# или freq месяцев больше, если не считаем фактор дивидендов\n",
    "start_date = pd.to_datetime('18.12.2012')\n",
    "end_date = pd.to_datetime('29.04.2022')"
   ]
  },
  {
   "cell_type": "code",
   "execution_count": 859,
   "id": "263ace7a",
   "metadata": {},
   "outputs": [],
   "source": [
    "last_reb_date = start_date - timedelta(freq_days)\n",
    "ac_reb_date = start_date\n",
    "# min_days - столько дней должны торговаться половина компаний из индекса с момента последней ребалансировки\n",
    "min_days = round(freq * 30 * 5 / 7 * 0.3)"
   ]
  },
  {
   "cell_type": "code",
   "execution_count": 860,
   "id": "f7bfb5ab",
   "metadata": {},
   "outputs": [],
   "source": [
    "# В словарь moex_rebs запишем по датам ребалансировок из нашего периода актуальные акции - Universe\n",
    "universe1 = rebalancing.columns[(rebalancing.columns <= start_date).sum() - 1]\n",
    "moex_rebs = {universe1 : rebalancing[universe1][[x in tickers for x in rebalancing[universe1]]].tolist()}\n",
    "reb_dates = rebalancing.columns[(rebalancing.columns > start_date) & (rebalancing.columns < end_date)]\n",
    "for reb_date in reb_dates:\n",
    "    moex_rebs[reb_date] = rebalancing[reb_date][[x in tickers for x in rebalancing[reb_date]]].tolist()"
   ]
  },
  {
   "cell_type": "code",
   "execution_count": 861,
   "id": "8f4ec9cd",
   "metadata": {},
   "outputs": [],
   "source": [
    "# Ребалансировки индекса со списком активов, которые торговались в дату ребалансировки\n",
    "real_rebs = {}\n",
    "while ac_reb_date < end_date:\n",
    "\n",
    "    moex_date = list(moex_rebs.keys())[sum([x <= ac_reb_date for x in list(moex_rebs.keys())]) - 1]\n",
    "    ac_universe = moex_rebs[moex_date]\n",
    "    not_trading = []\n",
    "\n",
    "    Ntrade = 0\n",
    "    Ntrade_last = 0\n",
    "    for ticker in ac_universe:\n",
    "        price_universe = price[ticker][price[ticker] != 0]\n",
    "        price_universe = price_universe[price_universe.index <= ac_reb_date]\n",
    "        price_universe = price_universe[price_universe.index >= last_reb_date]\n",
    "        change_universe = (price_universe / price_universe.shift(1)).dropna()\n",
    "        trade_days = (change_universe != 1).sum()\n",
    "        if trade_days >= min_days:\n",
    "            Ntrade += 1\n",
    "        if change_universe[-1] != 1:\n",
    "            Ntrade_last += 1\n",
    "        else:\n",
    "            not_trading.append(ticker)\n",
    "\n",
    "    if Ntrade / len(ac_universe) >= 0.5:\n",
    "        if Ntrade_last / len(ac_universe) >= 0.5:\n",
    "            ac_universe = [x for x in ac_universe if x not in not_trading]\n",
    "            real_rebs[ac_reb_date] = ac_universe\n",
    "            last_reb_date = ac_reb_date\n",
    "            ac_reb_date = ac_reb_date + timedelta(freq_days)\n",
    "        else:\n",
    "            ac_reb_date = ac_reb_date + timedelta(1)\n",
    "    \n",
    "    else:\n",
    "        ac_reb_date = ac_reb_date + timedelta(freq_days)\n"
   ]
  },
  {
   "cell_type": "markdown",
   "id": "693bc2a9",
   "metadata": {},
   "source": [
    "***Расчет значений стратегий***"
   ]
  },
  {
   "cell_type": "code",
   "execution_count": 862,
   "id": "c560d200",
   "metadata": {},
   "outputs": [],
   "source": [
    "# В каждую дату ребалансировки положим датафрейм, куда будем складывать параметры стратегий через функции\n",
    "selection = {}\n",
    "for i in real_rebs.keys():\n",
    "    selection[i] = pd.DataFrame(real_rebs[i], columns=['Актив'])"
   ]
  },
  {
   "cell_type": "code",
   "execution_count": 863,
   "id": "62b99c7d",
   "metadata": {},
   "outputs": [],
   "source": [
    "# Добавляем Моментум (можно несколько раз с разными окнами)\n",
    "# windowM - окно в месяцах\n",
    "windowM = 3\n",
    "selection = momentum_calc(selection, price, windowM)\n",
    "windowM = 6\n",
    "selection = momentum_calc(selection, price, windowM)"
   ]
  },
  {
   "cell_type": "code",
   "execution_count": 864,
   "id": "bdc9d08d",
   "metadata": {},
   "outputs": [],
   "source": [
    "# Добавляем Volatility (можно несколько раз с разными окнами)\n",
    "# windowV - окно в месяцах\n",
    "windowV = 6\n",
    "selection = volatility_calc(selection, price, windowV)\n",
    "windowV = 12\n",
    "selection = volatility_calc(selection, price, windowV)"
   ]
  },
  {
   "cell_type": "code",
   "execution_count": 865,
   "id": "bba5706a",
   "metadata": {},
   "outputs": [],
   "source": [
    "# Добавляем Size\n",
    "selection = size_calc(selection, price, Nshares)"
   ]
  },
  {
   "cell_type": "code",
   "execution_count": 866,
   "id": "4777a9ff",
   "metadata": {},
   "outputs": [],
   "source": [
    "# Добавляем Dividends\n",
    "selection = div_return_calc(selection, price_first, dividends)"
   ]
  },
  {
   "cell_type": "markdown",
   "id": "0be64263",
   "metadata": {},
   "source": [
    "***Отбор компаний по рассчитанным параметрам***"
   ]
  },
  {
   "cell_type": "code",
   "execution_count": 867,
   "id": "ad35ba61",
   "metadata": {},
   "outputs": [],
   "source": [
    "# Моментум и дивиденды прямо влияют на ожидаемую дох-ть, размер и волатильность - обратно, согласно предположениям\n",
    "mom_direction = True\n",
    "vol_direction = False\n",
    "size_direction = False\n",
    "div_direction = True"
   ]
  },
  {
   "cell_type": "code",
   "execution_count": 868,
   "id": "826dc81b",
   "metadata": {},
   "outputs": [
    {
     "name": "stdout",
     "output_type": "stream",
     "text": [
      "Введите количество комбинаций для стратегии Momentum_3M1\n",
      "Введите количество отбираемых компаний для комбинации 1, для стратегии Momentum_3M5\n",
      "Введите количество комбинаций для стратегии Momentum_6M1\n",
      "Введите количество отбираемых компаний для комбинации 1, для стратегии Momentum_6M5\n",
      "Введите количество комбинаций для стратегии Volatility_6M1\n",
      "Введите количество отбираемых компаний для комбинации 1, для стратегии Volatility_6M5\n",
      "Введите количество комбинаций для стратегии Volatility_12M1\n",
      "Введите количество отбираемых компаний для комбинации 1, для стратегии Volatility_12M5\n",
      "Введите количество комбинаций для стратегии Size3\n",
      "Введите количество отбираемых компаний для комбинации 1, для стратегии Size5\n",
      "Введите количество отбираемых компаний для комбинации 2, для стратегии Size10\n",
      "Введите количество отбираемых компаний для комбинации 3, для стратегии Size15\n",
      "Введите количество комбинаций для стратегии Dividends1\n",
      "Введите количество отбираемых компаний для комбинации 1, для стратегии Dividends5\n"
     ]
    }
   ],
   "source": [
    "# Можно пробовать разные комбинации стратегий и кол-ва отбираемых из вселенной компаний.\n",
    "# Для этого для каждой стратегии сначала вводим кол-во комбинаций, которые хотим протестировать,\n",
    "# А затем для каждой комбинации - сколько компаний будем отбирать из вселенной\n",
    "parameters = list(selection[list(selection.keys())[0]].columns[1:])\n",
    "N_select = {}\n",
    "for param in parameters:\n",
    "    N_comb = int(input('Введите количество комбинаций для стратегии ' + param))\n",
    "    list_comb = []\n",
    "    for i in range(N_comb):\n",
    "        comb = int(input('Введите количество отбираемых компаний для комбинации '\\\n",
    "                        + str(i+1) + ', для стратегии '+ param))\n",
    "        list_comb.append(comb)\n",
    "    N_select[param] = list_comb\n",
    "    "
   ]
  },
  {
   "cell_type": "code",
   "execution_count": 869,
   "id": "8bd21c25",
   "metadata": {},
   "outputs": [],
   "source": [
    "final_select = {}\n",
    "for date in selection.keys():\n",
    "    final_select[date] = pd.DataFrame()\n",
    "    select = selection[date]\n",
    "    final_select[date]['Актив'] = select['Актив']\n",
    "    \n",
    "    for strat in list(select.columns)[1:]:\n",
    "        select_strat = select[['Актив', strat]]\n",
    "        select_strat = select_strat[select_strat[strat] != 'Недостаточная история торгов']\n",
    "        if strat.__contains__('Momentum'):\n",
    "            direction = mom_direction\n",
    "        elif strat.__contains__('Volatility'):    \n",
    "            direction = vol_direction\n",
    "        elif strat.__contains__('Size'):     \n",
    "            direction = size_direction\n",
    "        elif strat.__contains__('Dividends'):    \n",
    "            direction = div_direction\n",
    "            \n",
    "        # Для Size капитализацию по прив. акциям прибавляем к обычным, если они есть в выборке (обычно представлены обе)\n",
    "        if strat == 'Size':\n",
    "            for ticker in list(select_strat['Актив']):\n",
    "                short = ticker[:-1]\n",
    "                if short in list(select_strat['Актив']):\n",
    "                    select_strat.loc[select_strat['Актив'] == short, 'Size'] +=\\\n",
    "                    select_strat.loc[select_strat['Актив'] == ticker, 'Size'].iloc[0]\n",
    "                    select_strat = select_strat.loc[select_strat['Актив'] != ticker]\n",
    "\n",
    "        select_strat = select_strat.sort_values(strat, ascending=not direction).reset_index(drop=True)\n",
    "\n",
    "        for n_comp in N_select[strat]:\n",
    "            top_assets = list(select_strat.iloc[:n_comp]['Актив'])\n",
    "            top_assets = [x in top_assets for x in list(select['Актив'])]\n",
    "            final_select[date][strat + '_' + str(n_comp) + 'Comp'] = top_assets"
   ]
  },
  {
   "cell_type": "markdown",
   "id": "8dd35935",
   "metadata": {},
   "source": [
    "***Динамика портфелей***"
   ]
  },
  {
   "cell_type": "code",
   "execution_count": 874,
   "id": "70ad72cc",
   "metadata": {},
   "outputs": [],
   "source": [
    "strats = list(final_select[list(final_select.keys())[0]].columns[1:])\n",
    "strat = strats[6]\n",
    "portfolio_dynamics = pd.DataFrame({'Динамика': [1]}, index=[list(final_select.keys())[0]])\n",
    "for Ndate in range(len(list(final_select.keys()))):\n",
    "    open_date = list(final_select.keys())[Ndate]\n",
    "    if Ndate != len(list(final_select.keys())) - 1:\n",
    "        close_date = list(final_select.keys())[Ndate + 1]\n",
    "    else:\n",
    "        close_date = end_date\n",
    "    selected_assets = final_select[open_date]['Актив'][final_select[open_date][strat]].to_list()\n",
    "    \n",
    "    portfolio_prices = price[selected_assets]\n",
    "    portfolio_prices = portfolio_prices[portfolio_prices.index >= open_date]\n",
    "    portfolio_prices = portfolio_prices[portfolio_prices.index <= close_date]\n",
    "    portfolio_prices = (portfolio_prices / portfolio_prices.shift(1) - 1).dropna()\n",
    "    \n",
    "    # Отдельно можно написать функцию для разных взвешиваний\n",
    "    Nassets = len(selected_assets)\n",
    "    weights = [1 / Nassets for x in range(Nassets)]\n",
    "    \n",
    "    portfolio_price = portfolio_prices.iloc[:, 0] * weights[0]\n",
    "    for asset in range(1, Nassets):\n",
    "        portfolio_price = portfolio_price + portfolio_prices.iloc[:, asset] * weights[asset]\n",
    "\n",
    "    portfolio_price = portfolio_price[portfolio_price != 0]\n",
    "    \n",
    "    for obs in range(len(portfolio_price)):\n",
    "        index = portfolio_price.index[obs]\n",
    "        value = (portfolio_price[obs] + 1) * portfolio_dynamics.iloc[-1, 0]\n",
    "        portfolio_dynamics = portfolio_dynamics.append(pd.DataFrame({'Динамика': [value]}, index=[index]))"
   ]
  },
  {
   "cell_type": "code",
   "execution_count": 875,
   "id": "0a7abdb5",
   "metadata": {},
   "outputs": [
    {
     "data": {
      "text/html": [
       "<div>\n",
       "<style scoped>\n",
       "    .dataframe tbody tr th:only-of-type {\n",
       "        vertical-align: middle;\n",
       "    }\n",
       "\n",
       "    .dataframe tbody tr th {\n",
       "        vertical-align: top;\n",
       "    }\n",
       "\n",
       "    .dataframe thead th {\n",
       "        text-align: right;\n",
       "    }\n",
       "</style>\n",
       "<table border=\"1\" class=\"dataframe\">\n",
       "  <thead>\n",
       "    <tr style=\"text-align: right;\">\n",
       "      <th></th>\n",
       "      <th>Динамика</th>\n",
       "    </tr>\n",
       "  </thead>\n",
       "  <tbody>\n",
       "    <tr>\n",
       "      <th>2012-12-18</th>\n",
       "      <td>1.000000</td>\n",
       "    </tr>\n",
       "    <tr>\n",
       "      <th>2012-12-19</th>\n",
       "      <td>0.999471</td>\n",
       "    </tr>\n",
       "    <tr>\n",
       "      <th>2012-12-20</th>\n",
       "      <td>1.004219</td>\n",
       "    </tr>\n",
       "    <tr>\n",
       "      <th>2012-12-21</th>\n",
       "      <td>0.997215</td>\n",
       "    </tr>\n",
       "    <tr>\n",
       "      <th>2012-12-24</th>\n",
       "      <td>0.991274</td>\n",
       "    </tr>\n",
       "    <tr>\n",
       "      <th>...</th>\n",
       "      <td>...</td>\n",
       "    </tr>\n",
       "    <tr>\n",
       "      <th>2022-04-25</th>\n",
       "      <td>2.402195</td>\n",
       "    </tr>\n",
       "    <tr>\n",
       "      <th>2022-04-26</th>\n",
       "      <td>2.488063</td>\n",
       "    </tr>\n",
       "    <tr>\n",
       "      <th>2022-04-27</th>\n",
       "      <td>2.555682</td>\n",
       "    </tr>\n",
       "    <tr>\n",
       "      <th>2022-04-28</th>\n",
       "      <td>2.511317</td>\n",
       "    </tr>\n",
       "    <tr>\n",
       "      <th>2022-04-29</th>\n",
       "      <td>2.573737</td>\n",
       "    </tr>\n",
       "  </tbody>\n",
       "</table>\n",
       "<p>2327 rows × 1 columns</p>\n",
       "</div>"
      ],
      "text/plain": [
       "            Динамика\n",
       "2012-12-18  1.000000\n",
       "2012-12-19  0.999471\n",
       "2012-12-20  1.004219\n",
       "2012-12-21  0.997215\n",
       "2012-12-24  0.991274\n",
       "...              ...\n",
       "2022-04-25  2.402195\n",
       "2022-04-26  2.488063\n",
       "2022-04-27  2.555682\n",
       "2022-04-28  2.511317\n",
       "2022-04-29  2.573737\n",
       "\n",
       "[2327 rows x 1 columns]"
      ]
     },
     "execution_count": 875,
     "metadata": {},
     "output_type": "execute_result"
    }
   ],
   "source": [
    "portfolio_dynamics"
   ]
  },
  {
   "cell_type": "code",
   "execution_count": 707,
   "id": "a8efdb5e",
   "metadata": {},
   "outputs": [
    {
     "data": {
      "text/plain": [
       "'Volatility_12M_10Comp'"
      ]
     },
     "execution_count": 707,
     "metadata": {},
     "output_type": "execute_result"
    }
   ],
   "source": [
    "strat"
   ]
  },
  {
   "cell_type": "code",
   "execution_count": null,
   "id": "b61eb1dc",
   "metadata": {},
   "outputs": [],
   "source": []
  },
  {
   "cell_type": "code",
   "execution_count": null,
   "id": "29863d1f",
   "metadata": {},
   "outputs": [],
   "source": []
  },
  {
   "cell_type": "code",
   "execution_count": null,
   "id": "018fbbef",
   "metadata": {},
   "outputs": [],
   "source": []
  },
  {
   "cell_type": "code",
   "execution_count": null,
   "id": "85bde76c",
   "metadata": {},
   "outputs": [],
   "source": []
  },
  {
   "cell_type": "code",
   "execution_count": null,
   "id": "35a70a39",
   "metadata": {},
   "outputs": [],
   "source": []
  },
  {
   "cell_type": "code",
   "execution_count": null,
   "id": "3d48bda9",
   "metadata": {},
   "outputs": [],
   "source": []
  },
  {
   "cell_type": "code",
   "execution_count": null,
   "id": "9aedcf4a",
   "metadata": {},
   "outputs": [],
   "source": []
  },
  {
   "cell_type": "code",
   "execution_count": null,
   "id": "c246bb35",
   "metadata": {},
   "outputs": [],
   "source": []
  },
  {
   "cell_type": "code",
   "execution_count": null,
   "id": "bca0a920",
   "metadata": {},
   "outputs": [],
   "source": []
  },
  {
   "cell_type": "code",
   "execution_count": null,
   "id": "282cb63f",
   "metadata": {},
   "outputs": [],
   "source": []
  }
 ],
 "metadata": {
  "kernelspec": {
   "display_name": "Python 3",
   "language": "python",
   "name": "python3"
  },
  "language_info": {
   "codemirror_mode": {
    "name": "ipython",
    "version": 3
   },
   "file_extension": ".py",
   "mimetype": "text/x-python",
   "name": "python",
   "nbconvert_exporter": "python",
   "pygments_lexer": "ipython3",
   "version": "3.8.8"
  }
 },
 "nbformat": 4,
 "nbformat_minor": 5
}
